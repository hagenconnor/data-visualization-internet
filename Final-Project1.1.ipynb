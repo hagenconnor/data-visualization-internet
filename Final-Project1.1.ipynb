{
 "cells": [
  {
   "cell_type": "markdown",
   "metadata": {},
   "source": [
    "# CP321 Data Visualization Project\n",
    "Connor Hagen: 180575650\n",
    "\n",
    "Chandra Keerthi: 180860940\n",
    "#### Question: In the year 2012, which industries have the highest internet usage, and what type of connection do they use the most?\n"
   ]
  },
  {
   "cell_type": "code",
   "execution_count": 1,
   "metadata": {},
   "outputs": [],
   "source": [
    "#importing packages\n",
    "import pandas as pd\n",
    "import numpy as np \n",
    "import matplotlib.pyplot as plt\n",
    "import seaborn as sbn"
   ]
  },
  {
   "cell_type": "code",
   "execution_count": 2,
   "metadata": {},
   "outputs": [
    {
     "data": {
      "text/html": [
       "<div>\n",
       "<style scoped>\n",
       "    .dataframe tbody tr th:only-of-type {\n",
       "        vertical-align: middle;\n",
       "    }\n",
       "\n",
       "    .dataframe tbody tr th {\n",
       "        vertical-align: top;\n",
       "    }\n",
       "\n",
       "    .dataframe thead th {\n",
       "        text-align: right;\n",
       "    }\n",
       "</style>\n",
       "<table border=\"1\" class=\"dataframe\">\n",
       "  <thead>\n",
       "    <tr style=\"text-align: right;\">\n",
       "      <th></th>\n",
       "      <th>REF_DATE</th>\n",
       "      <th>North American Industry Classification System (NAICS)</th>\n",
       "      <th>Size of enterprise</th>\n",
       "      <th>Type of Internet connection</th>\n",
       "      <th>VALUE</th>\n",
       "    </tr>\n",
       "  </thead>\n",
       "  <tbody>\n",
       "    <tr>\n",
       "      <th>0</th>\n",
       "      <td>2012</td>\n",
       "      <td>Private sector</td>\n",
       "      <td>Total, all enterprises</td>\n",
       "      <td>Digital Subscriber Line</td>\n",
       "      <td>32.3</td>\n",
       "    </tr>\n",
       "    <tr>\n",
       "      <th>1</th>\n",
       "      <td>2012</td>\n",
       "      <td>Private sector</td>\n",
       "      <td>Total, all enterprises</td>\n",
       "      <td>Cable modem</td>\n",
       "      <td>41.2</td>\n",
       "    </tr>\n",
       "    <tr>\n",
       "      <th>2</th>\n",
       "      <td>2012</td>\n",
       "      <td>Private sector</td>\n",
       "      <td>Total, all enterprises</td>\n",
       "      <td>Mobile wireless</td>\n",
       "      <td>34.7</td>\n",
       "    </tr>\n",
       "    <tr>\n",
       "      <th>3</th>\n",
       "      <td>2012</td>\n",
       "      <td>Private sector</td>\n",
       "      <td>Total, all enterprises</td>\n",
       "      <td>Satellite</td>\n",
       "      <td>3.8</td>\n",
       "    </tr>\n",
       "    <tr>\n",
       "      <th>4</th>\n",
       "      <td>2012</td>\n",
       "      <td>Private sector</td>\n",
       "      <td>Total, all enterprises</td>\n",
       "      <td>Fibre optic line</td>\n",
       "      <td>8.6</td>\n",
       "    </tr>\n",
       "    <tr>\n",
       "      <th>...</th>\n",
       "      <td>...</td>\n",
       "      <td>...</td>\n",
       "      <td>...</td>\n",
       "      <td>...</td>\n",
       "      <td>...</td>\n",
       "    </tr>\n",
       "    <tr>\n",
       "      <th>1843</th>\n",
       "      <td>2012</td>\n",
       "      <td>Other services (except public administration) ...</td>\n",
       "      <td>Large size enterprises</td>\n",
       "      <td>Mobile wireless</td>\n",
       "      <td>NaN</td>\n",
       "    </tr>\n",
       "    <tr>\n",
       "      <th>1844</th>\n",
       "      <td>2012</td>\n",
       "      <td>Other services (except public administration) ...</td>\n",
       "      <td>Large size enterprises</td>\n",
       "      <td>Satellite</td>\n",
       "      <td>NaN</td>\n",
       "    </tr>\n",
       "    <tr>\n",
       "      <th>1845</th>\n",
       "      <td>2012</td>\n",
       "      <td>Other services (except public administration) ...</td>\n",
       "      <td>Large size enterprises</td>\n",
       "      <td>Fibre optic line</td>\n",
       "      <td>80.6</td>\n",
       "    </tr>\n",
       "    <tr>\n",
       "      <th>1846</th>\n",
       "      <td>2012</td>\n",
       "      <td>Other services (except public administration) ...</td>\n",
       "      <td>Large size enterprises</td>\n",
       "      <td>Dial-up over a telephone line</td>\n",
       "      <td>NaN</td>\n",
       "    </tr>\n",
       "    <tr>\n",
       "      <th>1847</th>\n",
       "      <td>2012</td>\n",
       "      <td>Other services (except public administration) ...</td>\n",
       "      <td>Large size enterprises</td>\n",
       "      <td>Fixed wireless or portable Wi-Fi hotspot</td>\n",
       "      <td>NaN</td>\n",
       "    </tr>\n",
       "  </tbody>\n",
       "</table>\n",
       "<p>1848 rows × 5 columns</p>\n",
       "</div>"
      ],
      "text/plain": [
       "      REF_DATE North American Industry Classification System (NAICS)  \\\n",
       "0         2012                                     Private sector      \n",
       "1         2012                                     Private sector      \n",
       "2         2012                                     Private sector      \n",
       "3         2012                                     Private sector      \n",
       "4         2012                                     Private sector      \n",
       "...        ...                                                ...      \n",
       "1843      2012  Other services (except public administration) ...      \n",
       "1844      2012  Other services (except public administration) ...      \n",
       "1845      2012  Other services (except public administration) ...      \n",
       "1846      2012  Other services (except public administration) ...      \n",
       "1847      2012  Other services (except public administration) ...      \n",
       "\n",
       "          Size of enterprise               Type of Internet connection  VALUE  \n",
       "0     Total, all enterprises                   Digital Subscriber Line   32.3  \n",
       "1     Total, all enterprises                               Cable modem   41.2  \n",
       "2     Total, all enterprises                           Mobile wireless   34.7  \n",
       "3     Total, all enterprises                                 Satellite    3.8  \n",
       "4     Total, all enterprises                          Fibre optic line    8.6  \n",
       "...                      ...                                       ...    ...  \n",
       "1843  Large size enterprises                           Mobile wireless    NaN  \n",
       "1844  Large size enterprises                                 Satellite    NaN  \n",
       "1845  Large size enterprises                          Fibre optic line   80.6  \n",
       "1846  Large size enterprises             Dial-up over a telephone line    NaN  \n",
       "1847  Large size enterprises  Fixed wireless or portable Wi-Fi hotspot    NaN  \n",
       "\n",
       "[1848 rows x 5 columns]"
      ]
     },
     "execution_count": 2,
     "metadata": {},
     "output_type": "execute_result"
    }
   ],
   "source": [
    "#importing dataset\n",
    "df = pd.read_csv(\"industry.csv\")\n",
    "#filtering columns and rows\n",
    "df2 = df[df[\"REF_DATE\"] == 2012]\n",
    "df3 = df2[['REF_DATE', 'North American Industry Classification System (NAICS)', 'Size of enterprise', 'Type of Internet connection', 'VALUE']]\n",
    "df3"
   ]
  },
  {
   "cell_type": "markdown",
   "metadata": {},
   "source": [
    "# Introduction\n",
    "We have selected a dataset from this website: https://open.canada.ca/data/en/dataset/473274c3-c382-4857-a21f-55dfea7df3f2. \n",
    "\n",
    "This data consists of internet use by the type of internet connection, industry, and size of corporation in the years 2012 and 2013, but according to our question we will only be exploring data in the year 2012. \n",
    "\n",
    "Here are the list of variables found in the dataset:\n",
    "- REF_DATE, a year ==> Numerical\n",
    "- North American Industry Classification System (NAICS) ==> Categorical\n",
    "- Size of Enterprise ==> Categorical\n",
    "- Type of Internet Connection ==> Categorical\n",
    "- VALUE, this column shows the percentage of type of internet connection a specific sector uses ==> Numerical\n",
    "\n",
    "The goal of this exploration is to identify which industries have the highest internet usage, and what type of connection do they use the most. In addition we will be exploring other trends as well."
   ]
  },
  {
   "cell_type": "code",
   "execution_count": 3,
   "metadata": {
    "scrolled": false
   },
   "outputs": [
    {
     "data": {
      "text/html": [
       "<div>\n",
       "<style scoped>\n",
       "    .dataframe tbody tr th:only-of-type {\n",
       "        vertical-align: middle;\n",
       "    }\n",
       "\n",
       "    .dataframe tbody tr th {\n",
       "        vertical-align: top;\n",
       "    }\n",
       "\n",
       "    .dataframe thead th {\n",
       "        text-align: right;\n",
       "    }\n",
       "</style>\n",
       "<table border=\"1\" class=\"dataframe\">\n",
       "  <thead>\n",
       "    <tr style=\"text-align: right;\">\n",
       "      <th></th>\n",
       "      <th>Date</th>\n",
       "      <th>Class</th>\n",
       "      <th>Size</th>\n",
       "      <th>Type</th>\n",
       "      <th>Value</th>\n",
       "    </tr>\n",
       "  </thead>\n",
       "  <tbody>\n",
       "    <tr>\n",
       "      <th>7</th>\n",
       "      <td>2012</td>\n",
       "      <td>Private sector</td>\n",
       "      <td>Small size enterprises</td>\n",
       "      <td>Digital Subscriber Line</td>\n",
       "      <td>30.7</td>\n",
       "    </tr>\n",
       "    <tr>\n",
       "      <th>8</th>\n",
       "      <td>2012</td>\n",
       "      <td>Private sector</td>\n",
       "      <td>Small size enterprises</td>\n",
       "      <td>Cable modem</td>\n",
       "      <td>41.3</td>\n",
       "    </tr>\n",
       "    <tr>\n",
       "      <th>9</th>\n",
       "      <td>2012</td>\n",
       "      <td>Private sector</td>\n",
       "      <td>Small size enterprises</td>\n",
       "      <td>Mobile wireless</td>\n",
       "      <td>33.9</td>\n",
       "    </tr>\n",
       "    <tr>\n",
       "      <th>10</th>\n",
       "      <td>2012</td>\n",
       "      <td>Private sector</td>\n",
       "      <td>Small size enterprises</td>\n",
       "      <td>Satellite</td>\n",
       "      <td>3.7</td>\n",
       "    </tr>\n",
       "    <tr>\n",
       "      <th>11</th>\n",
       "      <td>2012</td>\n",
       "      <td>Private sector</td>\n",
       "      <td>Small size enterprises</td>\n",
       "      <td>Fibre optic line</td>\n",
       "      <td>6.4</td>\n",
       "    </tr>\n",
       "    <tr>\n",
       "      <th>...</th>\n",
       "      <td>...</td>\n",
       "      <td>...</td>\n",
       "      <td>...</td>\n",
       "      <td>...</td>\n",
       "      <td>...</td>\n",
       "    </tr>\n",
       "    <tr>\n",
       "      <th>1843</th>\n",
       "      <td>2012</td>\n",
       "      <td>Other services (except public administration) ...</td>\n",
       "      <td>Large size enterprises</td>\n",
       "      <td>Mobile wireless</td>\n",
       "      <td>NaN</td>\n",
       "    </tr>\n",
       "    <tr>\n",
       "      <th>1844</th>\n",
       "      <td>2012</td>\n",
       "      <td>Other services (except public administration) ...</td>\n",
       "      <td>Large size enterprises</td>\n",
       "      <td>Satellite</td>\n",
       "      <td>NaN</td>\n",
       "    </tr>\n",
       "    <tr>\n",
       "      <th>1845</th>\n",
       "      <td>2012</td>\n",
       "      <td>Other services (except public administration) ...</td>\n",
       "      <td>Large size enterprises</td>\n",
       "      <td>Fibre optic line</td>\n",
       "      <td>80.6</td>\n",
       "    </tr>\n",
       "    <tr>\n",
       "      <th>1846</th>\n",
       "      <td>2012</td>\n",
       "      <td>Other services (except public administration) ...</td>\n",
       "      <td>Large size enterprises</td>\n",
       "      <td>Dial-up over a telephone line</td>\n",
       "      <td>NaN</td>\n",
       "    </tr>\n",
       "    <tr>\n",
       "      <th>1847</th>\n",
       "      <td>2012</td>\n",
       "      <td>Other services (except public administration) ...</td>\n",
       "      <td>Large size enterprises</td>\n",
       "      <td>Fixed wireless or portable Wi-Fi hotspot</td>\n",
       "      <td>NaN</td>\n",
       "    </tr>\n",
       "  </tbody>\n",
       "</table>\n",
       "<p>1099 rows × 5 columns</p>\n",
       "</div>"
      ],
      "text/plain": [
       "      Date                                              Class  \\\n",
       "7     2012                                     Private sector   \n",
       "8     2012                                     Private sector   \n",
       "9     2012                                     Private sector   \n",
       "10    2012                                     Private sector   \n",
       "11    2012                                     Private sector   \n",
       "...    ...                                                ...   \n",
       "1843  2012  Other services (except public administration) ...   \n",
       "1844  2012  Other services (except public administration) ...   \n",
       "1845  2012  Other services (except public administration) ...   \n",
       "1846  2012  Other services (except public administration) ...   \n",
       "1847  2012  Other services (except public administration) ...   \n",
       "\n",
       "                        Size                                      Type  Value  \n",
       "7     Small size enterprises                   Digital Subscriber Line   30.7  \n",
       "8     Small size enterprises                               Cable modem   41.3  \n",
       "9     Small size enterprises                           Mobile wireless   33.9  \n",
       "10    Small size enterprises                                 Satellite    3.7  \n",
       "11    Small size enterprises                          Fibre optic line    6.4  \n",
       "...                      ...                                       ...    ...  \n",
       "1843  Large size enterprises                           Mobile wireless    NaN  \n",
       "1844  Large size enterprises                                 Satellite    NaN  \n",
       "1845  Large size enterprises                          Fibre optic line   80.6  \n",
       "1846  Large size enterprises             Dial-up over a telephone line    NaN  \n",
       "1847  Large size enterprises  Fixed wireless or portable Wi-Fi hotspot    NaN  \n",
       "\n",
       "[1099 rows x 5 columns]"
      ]
     },
     "execution_count": 3,
     "metadata": {},
     "output_type": "execute_result"
    }
   ],
   "source": [
    "# we will start off by renaming columns so it is easier to access them throughout the project\n",
    "df4 = df3.rename(columns = {'REF_DATE':'Date'})\n",
    "df5 = df4.rename(columns = {'North American Industry Classification System (NAICS)':'Class'})\n",
    "df6 = df5.rename(columns = {'VALUE':'Value'})\n",
    "df7 = df6.rename(columns = {'Type of Internet connection':'Type'})\n",
    "df8 = df7.rename(columns = {'Size of enterprise':'Size'})\n",
    "#This data contains a size classification known as 'Total, all enterprises'. We believe this is a culumative total of all\n",
    "#enterprises; all enterprises without a classification of small, medium, or large.\n",
    "#Refine the search results to filter out the total. We won't worry about a total.\n",
    "df8 = df8[df8['Size'] != 'Total, all enterprises']\n",
    "df8"
   ]
  },
  {
   "cell_type": "markdown",
   "metadata": {},
   "source": [
    "Now that we have renamed our columns for easier access, and filtered out the rows for the year of 2012 as well as filter out unesscessary columns, we can compare specific industry to see what type of internet connection takes up their whole usage. "
   ]
  },
  {
   "cell_type": "markdown",
   "metadata": {},
   "source": [
    "# Data Exploration and Visualization"
   ]
  },
  {
   "cell_type": "code",
   "execution_count": 4,
   "metadata": {},
   "outputs": [],
   "source": [
    "#Create small size enterprises dataframe.\n",
    "dfSmall = df8[df8['Size'] == 'Small size enterprises']\n",
    "dfSmall = dfSmall.dropna()\n",
    "#Sort highest to lowest.\n",
    "dfSmall = dfSmall.sort_values(\"Value\",ascending= False)\n",
    "\n",
    "#Create medium size enterprises dataframe.\n",
    "dfMed = df8[df8['Size'] == 'Medium size enterprises']\n",
    "dfMed = dfMed.dropna()\n",
    "#Sort highest to lowest.\n",
    "dfMed = dfMed.sort_values(\"Value\",ascending= False)\n",
    "\n",
    "#Create large size enterprises dataframe.\n",
    "dfLarge = df8[df8['Size'] == 'Large size enterprises']\n",
    "dfLarge = dfLarge.dropna()\n",
    "#Sort highest to lowest.\n",
    "dfLarge = dfLarge.sort_values(\"Value\",ascending= False)"
   ]
  },
  {
   "cell_type": "code",
   "execution_count": 5,
   "metadata": {
    "scrolled": false
   },
   "outputs": [
    {
     "name": "stdout",
     "output_type": "stream",
     "text": [
      "Small size enterprises     371\n",
      "Medium size enterprises    371\n",
      "Large size enterprises     357\n",
      "Name: Size, dtype: int64\n"
     ]
    },
    {
     "data": {
      "text/plain": [
       "Text(0.5, 0, 'Count')"
      ]
     },
     "execution_count": 5,
     "metadata": {},
     "output_type": "execute_result"
    },
    {
     "data": {
      "image/png": "[encoded data removed]",
      "text/plain": [
       "<Figure size 432x288 with 1 Axes>"
      ]
     },
     "metadata": {
      "needs_background": "light"
     },
     "output_type": "display_data"
    }
   ],
   "source": [
    "#Take a count of the different sizes.\n",
    "counts = df8['Size'].value_counts()\n",
    "print(counts)\n",
    "#Plot counts.\n",
    "plot = counts.plot(kind='barh', title='Count of Enterprises by Size')\n",
    "plot.set_xlabel(\"Count\")"
   ]
  },
  {
   "cell_type": "markdown",
   "metadata": {},
   "source": [
    "Examining the plot above, we can see that large, small, and medium enterprises contain roughly the same counts of entries. This is good and allows us to get a fairly good representation of usage percentages by simply taking the average (mean) of each category."
   ]
  },
  {
   "cell_type": "code",
   "execution_count": 6,
   "metadata": {
    "scrolled": false
   },
   "outputs": [
    {
     "data": {
      "text/plain": [
       "Text(0.5, 1.0, 'Average Utilization of Internet Connection Types (Small Enterprises)')"
      ]
     },
     "execution_count": 6,
     "metadata": {},
     "output_type": "execute_result"
    },
    {
     "data": {
      "image/png": "[encoded data removed]",
      "text/plain": [
       "<Figure size 432x288 with 1 Axes>"
      ]
     },
     "metadata": {
      "needs_background": "light"
     },
     "output_type": "display_data"
    }
   ],
   "source": [
    "#Create lists containing data for small, medium, and large enterprises.\n",
    "#Each value in the list contains data for a particular type of internet connection.\n",
    "#e.g. small = [30,50,20]. Arbitrarily say that indices are (DSL, cable, wireless). 30% are small DSL, 50% are small cable,\n",
    "# 20% are small wireless. This would total to 100% or above if the company has more than one service. \n",
    "\n",
    "#Define 3 lists representing each size of enterprise.\n",
    "small = []\n",
    "medium = []\n",
    "large = []\n",
    "\n",
    "#Filter for small enterprise, appending mean percentages in the order: DSL, Cable, Wireless, Satellite, Fibre, Dialup, Other\n",
    "SmallDSL = dfSmall[dfSmall['Type'] == 'Digital Subscriber Line']\n",
    "small.append(SmallDSL['Value'].mean())\n",
    "SmallCable = dfSmall[dfSmall['Type']== 'Cable modem']\n",
    "small.append(SmallCable['Value'].mean())\n",
    "SmallWireless = dfSmall[dfSmall['Type']== 'Mobile wireless']\n",
    "small.append(SmallWireless['Value'].mean())\n",
    "smallSat = dfSmall[dfSmall['Type']== 'Satellite']\n",
    "small.append(smallSat['Value'].mean())\n",
    "smallFibre = dfSmall[dfSmall['Type']== 'Fibre optic line']\n",
    "small.append(smallFibre['Value'].mean())\n",
    "SmallDialup = dfSmall[dfSmall['Type']== 'Dial-up over a telephone line']\n",
    "small.append(SmallDialup['Value'].mean())\n",
    "SmallOther = dfSmall[dfSmall['Type']== 'Fixed wireless or portable Wi-Fi hotspot']\n",
    "small.append(SmallOther['Value'].mean())\n",
    "\n",
    "#Filter for medium enterprise, appending mean percentages in the same order as above.\n",
    "MedDSL = dfMed[dfMed['Type'] == 'Digital Subscriber Line']\n",
    "medium.append(MedDSL['Value'].mean())\n",
    "MedCable = dfMed[dfMed['Type']== 'Cable modem']\n",
    "medium.append(MedCable['Value'].mean())\n",
    "MedWireless = dfMed[dfMed['Type']== 'Mobile wireless']\n",
    "medium.append(MedWireless['Value'].mean())\n",
    "MedSat = dfMed[dfMed['Type']== 'Satellite']\n",
    "medium.append(MedSat['Value'].mean())\n",
    "MedFibre = dfMed[dfMed['Type']== 'Fibre optic line']\n",
    "medium.append(MedFibre['Value'].mean())\n",
    "MedDialup = dfMed[dfMed['Type']== 'Dial-up over a telephone line']\n",
    "medium.append(MedDialup['Value'].mean())\n",
    "MedOther = dfMed[dfMed['Type']== 'Fixed wireless or portable Wi-Fi hotspot']\n",
    "medium.append(MedOther['Value'].mean())\n",
    "\n",
    "#Filter for large enterprise, appending mean percentages in the same order as above.\n",
    "LargeDSL = dfLarge[dfLarge['Type'] == 'Digital Subscriber Line']\n",
    "large.append(LargeDSL['Value'].mean())\n",
    "LargeCable = dfLarge[dfLarge['Type']== 'Cable modem']\n",
    "large.append(LargeCable['Value'].mean())\n",
    "LargeWireless = dfLarge[dfLarge['Type']== 'Mobile wireless']\n",
    "large.append(LargeWireless['Value'].mean())\n",
    "LargeSat = dfLarge[dfLarge['Type']== 'Satellite']\n",
    "large.append(LargeSat['Value'].mean())\n",
    "LargeFibre = dfLarge[dfLarge['Type']== 'Fibre optic line']\n",
    "large.append(LargeFibre['Value'].mean())\n",
    "LargeDialup = dfLarge[dfLarge['Type']== 'Dial-up over a telephone line']\n",
    "large.append(LargeDialup['Value'].mean())\n",
    "LargeOther = dfLarge[dfLarge['Type']== 'Fixed wireless or portable Wi-Fi hotspot']\n",
    "large.append(LargeOther['Value'].mean())\n",
    "\n",
    "#Test print the arrays to ensure they contain accurate results.\n",
    "#print(small)\n",
    "#print(medium)\n",
    "#print(large)\n",
    "\n",
    "names = ['DSL', 'Cable', 'Wireless', 'Satellite', 'Fibre', 'Dialup', 'Other']\n",
    "plt.barh(names, small, color='tab:green')\n",
    "plt.ylabel('Connection Type')\n",
    "plt.xlabel('Mean utilization (%)')\n",
    "plt.title('Average Utilization of Internet Connection Types (Small Enterprises)')"
   ]
  },
  {
   "cell_type": "markdown",
   "metadata": {},
   "source": [
    "From the visualization above, we can see that, on average, the most utilized connection type for a small enterprise is cable services, with around 40% utilization. We can use this information and repeat for medium and large enterprises, combining them onto a single plot."
   ]
  },
  {
   "cell_type": "code",
   "execution_count": 15,
   "metadata": {
    "scrolled": false
   },
   "outputs": [
    {
     "data": {
      "image/png": "[encoded data removed]",
      "text/plain": [
       "<Figure size 576x432 with 1 Axes>"
      ]
     },
     "metadata": {
      "needs_background": "light"
     },
     "output_type": "display_data"
    }
   ],
   "source": [
    "# set width of bar\n",
    "barWidth = 0.25\n",
    " \n",
    "# set height of bar\n",
    "bars1 = [12, 30, 1, 8, 22]\n",
    "bars2 = [28, 6, 16, 5, 10]\n",
    "bars3 = [29, 3, 24, 25, 17]\n",
    " \n",
    "# Set position of bar on X axis\n",
    "r1 = np.arange(len(small))\n",
    "r2 = [x + barWidth for x in r1]\n",
    "r3 = [x + barWidth for x in r2]\n",
    "\n",
    "plt.figure(figsize=(8,6))\n",
    "# Make the plot\n",
    "plt.bar(r1, small, color='tab:blue', width=barWidth, edgecolor='white', label='Small')\n",
    "plt.bar(r2, medium, color='tab:orange', width=barWidth, edgecolor='white', label='Medium')\n",
    "plt.bar(r3, large, color='tab:green', width=barWidth, edgecolor='white', label='Large')\n",
    " \n",
    "# Add xticks on the middle of the group bars\n",
    "plt.xlabel('Connection Type', fontweight='bold')\n",
    "plt.xticks([r + barWidth for r in range(len(small))], ['DSL', 'Cable', 'Wireless', 'Satellite', 'Fibre Optic', 'Dialup', 'Other'])\n",
    "plt.ylabel('Average utilization (%)', fontweight='bold')\n",
    "plt.title('Average % Utilization of Internet Connection\\nby Type and Industry Size (2012)')\n",
    "\n",
    "# Create legend & Show graphic\n",
    "plt.legend()\n",
    "plt.show()\n"
   ]
  },
  {
   "cell_type": "markdown",
   "metadata": {},
   "source": [
    "# Conclusion"
   ]
  },
  {
   "cell_type": "markdown",
   "metadata": {},
   "source": [
    "From the plot above, we can see some trends. Clearly, fibre optic is the industry standard of choice for large enterprises. Large enterprises are also reliant on wireless services and DSL, and are also the largest utilizer of other services.\n",
    "Medium size enterprises appear to heavily rely on DSL services, with wireless and cable being the next most utilized. Fibre optic appears to be less utilized, which could be arributed to medium-sized enterprises not having a business need or resources required.\n",
    "Small size enterprises appear to heavily rely on traditional cable/DSL internet services. Fibre optic appears to be poorly utilized, which, again could be attributed to lack of business need and potential for lack of resources. \n",
    "\n",
    "Overall, the data shows that many enterprises rely on a variety of services. Wireless, DSL, and fibre optic are heavily utilized by large enterprises, suggesting that a big portion of large corporations use a wide variety of services. Perhaps, for example, cell phones for employees, and fibre networks for office buildings. Small and medium companies appear to exhibit similar trends, with DSL, cable, and wireless services being commonly used across the industries."
   ]
  }
 ],
 "metadata": {
  "kernelspec": {
   "display_name": "Python 3",
   "language": "python",
   "name": "python3"
  },
  "language_info": {
   "codemirror_mode": {
    "name": "ipython",
    "version": 3
   },
   "file_extension": ".py",
   "mimetype": "text/x-python",
   "name": "python",
   "nbconvert_exporter": "python",
   "pygments_lexer": "ipython3",
   "version": "3.7.4"
  }
 },
 "nbformat": 4,
 "nbformat_minor": 2
}
